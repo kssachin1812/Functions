{
  "nbformat": 4,
  "nbformat_minor": 0,
  "metadata": {
    "colab": {
      "provenance": []
    },
    "kernelspec": {
      "name": "python3",
      "display_name": "Python 3"
    },
    "language_info": {
      "name": "python"
    }
  },
  "cells": [
    {
      "cell_type": "code",
      "execution_count": null,
      "metadata": {
        "id": "yxbuP51olTYH"
      },
      "outputs": [],
      "source": []
    },
    {
      "cell_type": "markdown",
      "source": [
        "#FUNCTIONS"
      ],
      "metadata": {
        "id": "ydNKfloUldDg"
      }
    },
    {
      "cell_type": "markdown",
      "source": [
        "1.What is the difference between a function and a method in Python?\n",
        "-   A function is a standalone block of code that performs a specific task.\n",
        "-   Example for function:\n",
        "-   def add_numbers(a, b):\n",
        "    return a + b\n",
        "\n",
        "Calling the function\n",
        "result = add_numbers(3, 5)\n",
        "print(\"Function result:\", result)\n",
        "\n",
        "-   A method is a function that is associated with an object (i.e., defined inside a class).\n",
        "-   Example for methodclass Calculator:\n",
        "    def __init__(self, a, b):\n",
        "        self.a = a\n",
        "        self.b = b\n",
        "\n",
        "    def add(self):\n",
        "        return self.a + self.b\n",
        "\n",
        "Creating an object and calling the method\n",
        "calc = Calculator(3, 5)\n",
        "print(\"Method result:\", calc.add())"
      ],
      "metadata": {
        "id": "bY0gTMZMlfE6"
      }
    },
    {
      "cell_type": "markdown",
      "source": [
        "2. Explain the concept of function arguments and parameters in Python.\n",
        "-   In Python, functions are reusable blocks of code that perform specific tasks, and they often require input values to operate effectively. These inputs are handled through parameters and arguments, which are closely related but serve distinct roles. A parameter is a variable defined in the function's header that acts as a placeholder for the value the function will receive. When the function is called, the actual value passed to it is known as an argument. -   For example, in the function definition def greet(name):, name is the parameter. When the function is called as greet(\"K\"), the string \"K\" is the argument"
      ],
      "metadata": {
        "id": "-nfFocQVmBje"
      }
    },
    {
      "cell_type": "markdown",
      "source": [
        "3. What are the different ways to define and call a function in Python?\n",
        "-   In Python, functions can be defined and called in several flexible ways, allowing programmers to write modular and reusable code. The most common method of defining a function is by using the def keyword followed by the function name and parentheses containing optional parameters. For example, def greet(name): defines a function named greet that takes one parameter, name. Functions can also be defined with default parameters, such as def greet(name=\"Guest\"), which allows the function to be called without explicitly passing an argument. Another powerful approach is using variable-length arguments with *args for multiple positional inputs and **kwargs for multiple keyword inputs, which makes the function adaptable to different numbers of arguments. Python also supports anonymous functions using the lambda keyword, typically used for short, one-line operations like lambda x: x**2. When it comes to calling functions, they can be invoked by simply writing the function name followed by parentheses containing the required arguments, such as greet(\"K\"). Functions can also be called using keyword arguments for clarity, like greet(name=\"K\"), or with unpacked arguments using * and ** when passing data from lists or dictionaries. These varied methods of defining and calling functions make Python highly expressive and suitable for both simple scripts and complex applications."
      ],
      "metadata": {
        "id": "ZXrKTtqSnN16"
      }
    },
    {
      "cell_type": "markdown",
      "source": [
        "4. What is the purpose of the `return` statement in a Python function?\n",
        "-   The return statement in a Python function serves the essential purpose of sending back a result or value to the caller after the function has completed its task. When a function is executed, it may perform calculations, process data, or manipulate inputs, and the return statement allows it to output the final result of that operation.\n",
        "-   For example, in a function like def add(a, b): return a + b, the return statement ensures that the sum of a and b is passed back to wherever the function was called, enabling further use or storage of that value."
      ],
      "metadata": {
        "id": "nOWzkRiJn5n7"
      }
    },
    {
      "cell_type": "markdown",
      "source": [],
      "metadata": {
        "id": "bljFqcpZoN_2"
      }
    },
    {
      "cell_type": "markdown",
      "source": [
        "5.  What are iterators in Python and how do they differ from iterables?\n",
        "-   An iterable is any Python object capable of returning its members one at a time, such as lists, tuples, strings, dictionaries, and sets. These objects implement the __iter__() method, which allows them to be looped over using a for loop.\n",
        "-   An iterator, on the other hand, is an object that represents a stream of data and remembers its position during iteration. It implements both the __iter__() and __next__() methods. When __next__() is called, the iterator returns the next item in the sequence and raises a StopIteration exception when there are no more items to return"
      ],
      "metadata": {
        "id": "X48tnP0foOMG"
      }
    },
    {
      "cell_type": "markdown",
      "source": [
        "6. . Explain the concept of generators in Python and how they are defined.\n",
        "-   Generators in Python are a powerful and memory-efficient way to produce sequences of values one at a time, rather than generating and storing the entire sequence in memory at once. Unlike regular functions that use the return statement to send back a result and terminate, generators use the yield statement to produce a value and pause the function’s execution, preserving its internal state for the next call. This allows generators to resume from where they left off, making them ideal for handling large datasets or infinite sequences. A generator is defined like a normal function using the def keyword, but it must contain at least one yield statement.\n",
        "-   For example, a simple generator that yields numbers from 1 to 3 would look like this: def count_up(): yield 1; yield 2; yield 3"
      ],
      "metadata": {
        "id": "TUYMqk7qosNM"
      }
    },
    {
      "cell_type": "markdown",
      "source": [
        "7. What are the advantages of using generators over regular functions?\n",
        "-   Generators offer several advantages over regular functions in Python, particularly when it comes to memory efficiency and performance. Unlike regular functions that compute and return all results at once using the return statement, generators yield one value at a time using the yield keyword, allowing them to produce data lazily. This means that generators do not store the entire sequence in memory, making them ideal for working with large datasets, infinite sequences, or streaming data.\n",
        "-   For example, reading a massive log file line by line using a generator avoids loading the entire file into memory, which would be inefficient and potentially crash the program. Additionally, generators preserve their internal state between yields, enabling them to resume execution exactly where they left off."
      ],
      "metadata": {
        "id": "7VyVZXI3pD2b"
      }
    },
    {
      "cell_type": "markdown",
      "source": [
        "8. What is a lambda function in Python and when is it typically used?\n",
        "-   A lambda function in Python is a small, anonymous function defined using the lambda keyword instead of the standard def syntax. It is typically used for short, throwaway operations where defining a full function would be unnecessarily verbose. Lambda functions can take any number of arguments but are limited to a single expression, which is evaluated and returned automatically.\n",
        "-   For example, lambda x: x**2 defines a function that returns the square of its input. These functions are commonly used in situations that require quick, inline functionality—such as with built-in functions like map(), filter(), and sorted()."
      ],
      "metadata": {
        "id": "15AerXA7_3cE"
      }
    },
    {
      "cell_type": "markdown",
      "source": [
        "9.  Explain the purpose and usage of the `map()` function in Python?\n",
        "-   The map() function in Python is a built-in utility that allows you to apply a specific function to every item in an iterable, such as a list or tuple, and return a new iterable containing the results. Its primary purpose is to simplify and streamline operations that involve transforming data element-wise. For example, if you have a list of numbers and want to square each one, you can use map() instead of writing a loop. The syntax is map(function, iterable), where function is the operation to apply and iterable is the sequence of items to process. The result is a map object, which can be converted to a list or another iterable type using list() or tuple(). A common use case involves lambda functions for quick, inline transformations, such as map(lambda x: x**2, [1, 2, 3, 4]), which returns [1, 4, 9, 16]."
      ],
      "metadata": {
        "id": "2b-5-EITA2fb"
      }
    },
    {
      "cell_type": "markdown",
      "source": [
        "10. . What is the difference between `map()`, `reduce()`, and `filter()` functions in Python?\n",
        "-   In Python, map(), reduce(), and filter() are functional programming tools that allow concise and expressive data manipulation, but each serves a distinct purpose. The map() function is used to apply a given function to every item in an iterable, returning a new iterable with the transformed values. For example, map(lambda x: x*2, [1, 2, 3]) would return [2, 4, 6]. In contrast, filter() is used to select elements from an iterable based on a condition defined by a function that returns either True or False. For instance, filter(lambda x: x%2 == 0, [1, 2, 3, 4]) would return [2, 4], keeping only the even numbers. The reduce() function, which must be imported from the functools module, is used to apply a function cumulatively to the items of an iterable, reducing the sequence to a single value. For example, reduce(lambda x, y: x + y, [1, 2, 3, 4]) would return 10, summing all the elements. In summary, map() transforms data, filter() extracts data based on a condition, and reduce() aggregates data into a single result. These functions are especially useful for writing clean, efficient code when working with lists or other iterable structures."
      ],
      "metadata": {
        "id": "Ej_LDHTSBOCa"
      }
    },
    {
      "cell_type": "markdown",
      "source": [
        "11. Using pen & Paper write the internal mechanism for sum operation using  reduce function on this given list [47,11,42,13].\n",
        "-   Step 1: 47 + 11 = 58  \n",
        "-   Step 2: 58 + 42 = 100  \n",
        "-   Step 3: 100 + 13 = 113  \n"
      ],
      "metadata": {
        "id": "7cCtHyGeBpNf"
      }
    },
    {
      "cell_type": "markdown",
      "source": [
        "# PRACTICAL QUESTIONS"
      ],
      "metadata": {
        "id": "bIyn10ApCWkj"
      }
    },
    {
      "cell_type": "markdown",
      "source": [
        "1. Write a Python function that takes a list of numbers as input and returns the sum of all even numbers in the list.\n",
        "-   def sum_even_numbers(numbers):\n",
        "    total = 0\n",
        "    for num in numbers:\n",
        "        if num % 2 == 0:\n",
        "            total += num\n",
        "    return total\n"
      ],
      "metadata": {
        "id": "QGWqStx-CZ9v"
      }
    },
    {
      "cell_type": "markdown",
      "source": [
        "2. Create a Python function that accepts a string and returns the reverse of that string.\n",
        "-   def reverse_string(text):\n",
        "    return text[::-1]\n"
      ],
      "metadata": {
        "id": "ZurbU-_qDj7o"
      }
    },
    {
      "cell_type": "markdown",
      "source": [
        "3. Implement a Python function that takes a list of integers and returns a new list containing the squares of each number.\n",
        "-   def square_numbers(numbers):\n",
        "    return [num ** 2 for num in numbers]\n"
      ],
      "metadata": {
        "id": "xclqTDOIDyGm"
      }
    },
    {
      "cell_type": "markdown",
      "source": [
        "4. Write a Python function that checks if a given number is prime or not from 1 to 200\n",
        "-   def is_prime(n):\n",
        "    if n < 2:\n",
        "        return False\n",
        "    for i in range(2, int(n**0.5) + 1):\n",
        "        if n % i == 0:\n",
        "            return False\n",
        "    return True\n"
      ],
      "metadata": {
        "id": "NEu2viFKD_tt"
      }
    },
    {
      "cell_type": "markdown",
      "source": [
        "5.  Create an iterator class in Python that generates the Fibonacci sequence up to a specified number of terms.\n",
        "-   class FibonacciIterator:\n",
        "    def __init__(self, max_terms):\n",
        "        self.max_terms = max_terms\n",
        "        self.count = 0\n",
        "        self.a = 0\n",
        "        self.b = 1\n",
        "\n",
        "    def __iter__(self):\n",
        "        return self\n",
        "\n",
        "    def __next__(self):\n",
        "        if self.count >= self.max_terms:\n",
        "            raise StopIteration\n",
        "        if self.count == 0:\n",
        "            self.count += 1\n",
        "            return self.a\n",
        "        elif self.count == 1:\n",
        "            self.count += 1\n",
        "            return self.b\n",
        "        else:\n",
        "            self.a, self.b = self.b, self.a + self.b\n",
        "            self.count += 1\n",
        "            return self.b\n",
        "fib = FibonacciIterator(10)\n",
        "for num in fib:\n",
        "    print(num)\n"
      ],
      "metadata": {
        "id": "UIIp7-pFENGb"
      }
    },
    {
      "cell_type": "markdown",
      "source": [
        "6. Write a generator function in Python that yields the powers of 2 up to a given exponent.\n",
        "-   def powers_of_two(max_exponent):\n",
        "    for i in range(max_exponent + 1):\n",
        "        yield 2 ** i\n"
      ],
      "metadata": {
        "id": "iPoTNtVcE35P"
      }
    },
    {
      "cell_type": "markdown",
      "source": [
        "7.  Implement a generator function that reads a file line by line and yields each line as a string.\n",
        "-   def read_lines(file_path):\n",
        "    with open(file_path, 'r') as file:\n",
        "        for line in file:\n",
        "            yield line.strip()\n"
      ],
      "metadata": {
        "id": "hPZvOJFSFDFG"
      }
    },
    {
      "cell_type": "markdown",
      "source": [
        "8. Use a lambda function in Python to sort a list of tuples based on the second element of each tuple.\n",
        "-data = [(3, 7), (1, 4), (5, 2), (2, 9)]\n",
        "sorted_data = sorted(data, key=lambda x: x[1])\n",
        "print(sorted_data)\n"
      ],
      "metadata": {
        "id": "C0O5tVqRFias"
      }
    },
    {
      "cell_type": "markdown",
      "source": [
        "9. Write a Python program that uses `map()` to convert a list of temperatures from Celsius to Fahrenheit.\n",
        "-   List of temperatures in Celsius\n",
        "celsius_temps = [0, 20, 37, 100]\n",
        "\n",
        " Convert to Fahrenheit using map and lambda\n",
        "fahrenheit_temps = list(map(lambda c: (c * 9/5) + 32, celsius_temps))\n",
        "\n",
        " Display the result\n",
        "print(\"Temperatures in Fahrenheit:\", fahrenheit_temps)\n"
      ],
      "metadata": {
        "id": "ElVq3wp6GzmB"
      }
    },
    {
      "cell_type": "markdown",
      "source": [
        "10.  Create a Python program that uses `filter()` to remove all the vowels from a given string.\n",
        "-   def remove_vowels(text):\n",
        "    vowels = 'aeiouAEIOU'\n",
        "    return ''.join(filter(lambda char: char not in vowels, text))\n",
        "\n",
        "-   Example usage\n",
        "input_string = \"Python Programming is fun\"\n",
        "result = remove_vowels(input_string)\n",
        "print(\"String without vowels:\", result)\n"
      ],
      "metadata": {
        "id": "2IX5dLSHHGS3"
      }
    },
    {
      "cell_type": "markdown",
      "source": [
        "11. Imagine an accounting routine used in a book shop. It works on a list with sublists, which look like this:\n",
        " Write a Python program, which returns a list with 2-tuples. Each tuple consists of the order number and the\n",
        "product of the price per item and the quantity. The product should be increased by 10,- € if the value of the\n",
        "order is smaller than 100,00 €.\n",
        " Write a Python program using lambda and map.\n",
        " -   # Sample list of orders: [order_number, price_per_item, quantity]\n",
        "orders = [\n",
        "    [34587, 40.95, 4],\n",
        "    [98762, 56.80, 5],\n",
        "    [77226, 32.95, 3],\n",
        "    [88112, 24.99, 3]\n",
        "\n",
        "Use map and lambda to process each order\n",
        "processed_orders = list(map(lambda order: (\n",
        "    order[0],\n",
        "    order[1] * order[2] + (10 if order[1] * order[2] < 100 else 0)\n",
        "), orders))\n",
        "\n",
        " Display the result\n",
        "print(processed_orders)\n"
      ],
      "metadata": {
        "id": "HwwvwRu1Hec8"
      }
    }
  ]
}